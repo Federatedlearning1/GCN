{
 "cells": [
  {
   "cell_type": "markdown",
   "metadata": {
    "id": "DjMJoYhfp4l1"
   },
   "source": [
    "the design of the model is based on the famous paper \"Design Space for Graph Neural Networks\"\n"
   ]
  },
  {
   "cell_type": "markdown",
   "metadata": {
    "id": "xMP_bxKcdcHb"
   },
   "source": [
    "# Applying a GCN to the elliptic Bitcoin blockchain transaction dataset"
   ]
  },
  {
   "cell_type": "markdown",
   "metadata": {
    "id": "CFEMEatTdaAN"
   },
   "source": [
    "## Prepare and inspect the data \n",
    "\n",
    "1.   edges, each row contains two TxIDs representing the connection between two transactions \n",
    "2.   classes, contains a class for each transaction. The are three classes, lecit, illecit and unknwown\n",
    "3.   features, contains all the features for each transaction. This includes a set of fetures of the node itself and a set of features obtained from the connected nodes.\n",
    "\n"
   ]
  },
  {
   "cell_type": "markdown",
   "metadata": {
    "id": "ZOr0XGx-9oOa"
   },
   "source": [
    "### imports "
   ]
  },
  {
   "cell_type": "code",
   "execution_count": 2,
   "metadata": {
    "id": "SZDELv3SMrKh"
   },
   "outputs": [
    {
     "name": "stderr",
     "output_type": "stream",
     "text": [
      "/home/karthik/.local/lib/python3.10/site-packages/matplotlib/projections/__init__.py:63: UserWarning: Unable to import Axes3D. This may be due to multiple versions of Matplotlib being installed (e.g. as a system package and as a pip package). As a result, the 3D projection is not available.\n",
      "  warnings.warn(\"Unable to import Axes3D. This may be due to multiple versions of \"\n"
     ]
    }
   ],
   "source": [
    "import os\n",
    "import pandas as pd\n",
    "import numpy as np\n",
    "import networkx as nx\n",
    "import matplotlib.pyplot as plt\n",
    "import tensorflow as tf\n",
    "from tensorflow import keras\n",
    "from tensorflow.keras import layers\n",
    "import sklearn \n"
   ]
  },
  {
   "cell_type": "code",
   "execution_count": 3,
   "metadata": {
    "id": "CfjD1fXne_iO"
   },
   "outputs": [],
   "source": [
    "def run_experiment(model, x_train, y_train):\n",
    "    # Compile the model.\n",
    "    model.compile(\n",
    "        optimizer=keras.optimizers.Adam(learning_rate),\n",
    "        loss=keras.losses.SparseCategoricalCrossentropy(from_logits=True),\n",
    "        metrics=[keras.metrics.SparseCategoricalAccuracy(name=\"acc\")],\n",
    "    )\n",
    "    # Create an early stopping callback.\n",
    "    early_stopping = keras.callbacks.EarlyStopping(\n",
    "        monitor=\"val_acc\", patience=10, restore_best_weights=True\n",
    "    )\n",
    "    # Fit the model.\n",
    "    history = model.fit(\n",
    "        x=x_train,\n",
    "        y=y_train,\n",
    "        epochs=num_epochs,\n",
    "        batch_size=batch_size,\n",
    "        validation_split=0.15,\n",
    "        callbacks=[early_stopping],\n",
    "    )\n",
    "    \n",
    "\n",
    "    return history\n"
   ]
  },
  {
   "cell_type": "code",
   "execution_count": 4,
   "metadata": {
    "id": "aai3RemOPAFI"
   },
   "outputs": [],
   "source": [
    "\n",
    "def display_learning_curves(history):\n",
    "    fig, (ax1, ax2) = plt.subplots(1, 2, figsize=(15, 5))\n",
    "\n",
    "    ax1.plot(history.history[\"loss\"])\n",
    "    ax1.plot(history.history[\"val_loss\"])\n",
    "    ax1.legend([\"train\", \"test\"], loc=\"upper right\")\n",
    "    ax1.set_xlabel(\"Epochs\")\n",
    "    ax1.set_ylabel(\"Loss\")\n",
    "\n",
    "    ax2.plot(history.history[\"acc\"])\n",
    "    ax2.plot(history.history[\"val_acc\"])\n",
    "    ax2.legend([\"train\", \"test\"], loc=\"upper right\")\n",
    "    ax2.set_xlabel(\"Epochs\")\n",
    "    ax2.set_ylabel(\"Accuracy\")\n",
    "    plt.show()\n"
   ]
  },
  {
   "cell_type": "code",
   "execution_count": 5,
   "metadata": {
    "id": "HVsbAKltPCr7"
   },
   "outputs": [],
   "source": [
    "\n",
    "def create_ffn(hidden_units, dropout_rate, name=None):\n",
    "    fnn_layers = []\n",
    "\n",
    "    for units in hidden_units:\n",
    "        fnn_layers.append(layers.BatchNormalization())\n",
    "        fnn_layers.append(layers.Dropout(dropout_rate))\n",
    "        fnn_layers.append(layers.Dense(units, activation=tf.nn.gelu))\n",
    "\n",
    "    return keras.Sequential(fnn_layers, name=name)"
   ]
  },
  {
   "cell_type": "markdown",
   "metadata": {
    "id": "gMNLXOCF9Qby"
   },
   "source": [
    "### data retrival "
   ]
  },
  {
   "cell_type": "code",
   "execution_count": 6,
   "metadata": {
    "colab": {
     "base_uri": "https://localhost:8080/"
    },
    "id": "WQ-ws_UNPUoU",
    "outputId": "f3c26cf6-fad7-44e0-a3bc-edd7ce12cc67"
   },
   "outputs": [
    {
     "name": "stdout",
     "output_type": "stream",
     "text": [
      "/home/karthik/.keras/datasets/elliptic.zip\n"
     ]
    }
   ],
   "source": [
    "zip_file = keras.utils.get_file(\n",
    "    fname=\"elliptic.zip\",\n",
    "    origin=\"https://www.kaggle.com/datasets/ellipticco/elliptic-data-set/data\",\n",
    "    extract=True,\n",
    ")\n",
    "print(zip_file)\n"
   ]
  },
  {
   "cell_type": "code",
   "execution_count": 7,
   "metadata": {},
   "outputs": [
    {
     "name": "stdout",
     "output_type": "stream",
     "text": [
      "[Errno 2] No such file or directory: '3us/step/home/karthik/.keras/datasets/elliptic.zip'\n",
      "/home/karthik/AML/GCN_detect_bitcoin_money_laundering\n"
     ]
    }
   ],
   "source": [
    "cd \"3us/step/home/karthik/.keras/datasets/elliptic.zip\"\n"
   ]
  },
  {
   "cell_type": "code",
   "execution_count": 8,
   "metadata": {
    "colab": {
     "base_uri": "https://localhost:8080/"
    },
    "id": "DbgXqE0qPgAB",
    "outputId": "3dd60cf2-4bc6-471f-a8e9-f949ec707df2"
   },
   "outputs": [],
   "source": [
    "#cd /root/.keras/datasets/elliptic_bitcoin_dataset"
   ]
  },
  {
   "cell_type": "code",
   "execution_count": 9,
   "metadata": {
    "id": "lU2jZCzFPnio"
   },
   "outputs": [],
   "source": [
    "edges = pd.read_csv(\"elliptic_txs_edgelist.csv\")\n",
    "features = pd.read_csv(\"elliptic_txs_features.csv\",header=None)\n",
    "classes = pd.read_csv(\"elliptic_txs_classes.csv\")"
   ]
  },
  {
   "cell_type": "code",
   "execution_count": 10,
   "metadata": {
    "colab": {
     "base_uri": "https://localhost:8080/"
    },
    "id": "qWn1usGGeh6S",
    "outputId": "e37421a8-c0fa-4917-ba53-d9072603e9ba"
   },
   "outputs": [
    {
     "name": "stdout",
     "output_type": "stream",
     "text": [
      "(234355, 2)\n",
      "(203769, 167)\n"
     ]
    }
   ],
   "source": [
    "print(edges.shape)\n",
    "print(features.shape)"
   ]
  },
  {
   "cell_type": "markdown",
   "metadata": {
    "id": "Xbj3gBIQ9whl"
   },
   "source": [
    "### data preparation "
   ]
  },
  {
   "cell_type": "markdown",
   "metadata": {
    "id": "8f9scWH6P5An"
   },
   "source": [
    "Name all the features, differentiate features (only node, multiple nodes) and go for 0 class instead of unknown "
   ]
  },
  {
   "cell_type": "code",
   "execution_count": 11,
   "metadata": {
    "id": "4OunHGzMPqgU"
   },
   "outputs": [],
   "source": [
    "tx_features = [\"tx_feat_\"+str(i) for i in range(2,95)]\n",
    "agg_features = [\"agg_feat_\"+str(i) for i in range(1,73)]\n",
    "features.columns = [\"txId\",\"time_step\"] + tx_features + agg_features\n",
    "\n",
    "#merge features and classes\n",
    "features = pd.merge(features,classes,left_on=\"txId\",right_on=\"txId\",how='left')\n",
    "features['class'] = features['class'].apply(lambda x: '0' if x == \"unknown\" else x)"
   ]
  },
  {
   "cell_type": "markdown",
   "metadata": {
    "id": "SWafpzkXRUbM"
   },
   "source": [
    "In the first part of the analysis we are interested only in the known part of the network. We use the known part so to have a known reference for training. \n"
   ]
  },
  {
   "cell_type": "code",
   "execution_count": 12,
   "metadata": {
    "id": "JFbxQOSrRTd9"
   },
   "outputs": [],
   "source": [
    "# get the features of the known transactions\n",
    "features= features[features['class'] != '0' ]"
   ]
  },
  {
   "cell_type": "code",
   "execution_count": 13,
   "metadata": {
    "id": "j1jyBk_sWCmW"
   },
   "outputs": [],
   "source": [
    "def check(name):\n",
    "  if(name in unique):\n",
    "    return name \n",
    "  else : \n",
    "    return -1 "
   ]
  },
  {
   "cell_type": "code",
   "execution_count": 14,
   "metadata": {
    "id": "mN257FzhSY1A"
   },
   "outputs": [],
   "source": [
    "# remove from the edges DF all the entries that mentions the unknown transactions\n",
    "unique = features['txId'].unique()\n",
    "edges[\"txId1\"] = edges[\"txId1\"].apply(lambda name: check(name))\n",
    "edges[\"txId2\"] = edges[\"txId2\"].apply(lambda name: check(name))"
   ]
  },
  {
   "cell_type": "code",
   "execution_count": 15,
   "metadata": {
    "id": "s6k05wOjaorH"
   },
   "outputs": [],
   "source": [
    "edges = edges[edges[\"txId1\"] != -1 ]\n",
    "edges = edges[edges[\"txId2\"] != -1 ]"
   ]
  },
  {
   "cell_type": "code",
   "execution_count": 16,
   "metadata": {
    "colab": {
     "base_uri": "https://localhost:8080/"
    },
    "id": "mP1Pybg4eawf",
    "outputId": "9958fb78-8f14-4281-a4fa-1a2e14b4b600"
   },
   "outputs": [
    {
     "name": "stdout",
     "output_type": "stream",
     "text": [
      "(36624, 2)\n",
      "(46564, 168)\n"
     ]
    }
   ],
   "source": [
    "print(edges.shape)\n",
    "print(features.shape)"
   ]
  },
  {
   "cell_type": "markdown",
   "metadata": {
    "id": "FEilajvg99c1"
   },
   "source": [
    "### swap the index "
   ]
  },
  {
   "cell_type": "markdown",
   "metadata": {
    "id": "C_X3nxitQ9SP"
   },
   "source": [
    "Change the txID in both features and edges to a simple index. This makes the computation of the adjency matrix easier"
   ]
  },
  {
   "cell_type": "code",
   "execution_count": 17,
   "metadata": {
    "id": "gHE2VQ1EP4BK"
   },
   "outputs": [],
   "source": [
    "class_values = sorted(features[\"class\"].unique())\n",
    "#we create a new index by sorting the tx_ids and assign to it a number \n",
    "features_idx = {name: idx for idx, name in enumerate(sorted(features[\"txId\"].unique()))}\n",
    "\n",
    "# we then apply this new ids to all te data frames \n",
    "# this helps a lot in computing the adjency matrix, having the ids as the index.\n",
    "features[\"txId\"] = features[\"txId\"].apply(lambda name: features_idx[name])\n",
    "edges[\"txId1\"] = edges[\"txId1\"].apply(lambda name: features_idx[name])\n",
    "edges[\"txId2\"] = edges[\"txId2\"].apply(lambda name: features_idx[name])"
   ]
  },
  {
   "cell_type": "markdown",
   "metadata": {
    "id": "AbNu2ZHX-GzN"
   },
   "source": [
    "### prepare the data for the GCN architecture "
   ]
  },
  {
   "cell_type": "markdown",
   "metadata": {
    "id": "dnL3PTKa_UFc"
   },
   "source": [
    "The GCN works with an asset containing the whole graph. Of course, we give the network only the tx_features, as we are trying to learn all the agg_features ourselves. "
   ]
  },
  {
   "cell_type": "code",
   "execution_count": 18,
   "metadata": {
    "colab": {
     "base_uri": "https://localhost:8080/"
    },
    "id": "6U_K8K__dBhb",
    "outputId": "aff58db9-d16b-4958-bded-60309f7b3d14"
   },
   "outputs": [
    {
     "name": "stdout",
     "output_type": "stream",
     "text": [
      "Edges shape: (2, 36624)\n",
      "Nodes shape: (46564, 93)\n",
      "edge weights shape: (36624,)\n"
     ]
    },
    {
     "name": "stderr",
     "output_type": "stream",
     "text": [
      "2023-12-26 23:04:37.730665: E tensorflow/stream_executor/cuda/cuda_driver.cc:271] failed call to cuInit: CUDA_ERROR_NO_DEVICE: no CUDA-capable device is detected\n",
      "2023-12-26 23:04:37.730686: I tensorflow/stream_executor/cuda/cuda_diagnostics.cc:156] kernel driver does not appear to be running on this host (karthik-HP-Pavilion-Laptop-15-eg2xxx): /proc/driver/nvidia/version does not exist\n",
      "2023-12-26 23:04:37.731341: I tensorflow/core/platform/cpu_feature_guard.cc:151] This TensorFlow binary is optimized with oneAPI Deep Neural Network Library (oneDNN) to use the following CPU instructions in performance-critical operations:  AVX2 FMA\n",
      "To enable them in other operations, rebuild TensorFlow with the appropriate compiler flags.\n"
     ]
    }
   ],
   "source": [
    "# Create an edges array (sparse adjacency matrix) of shape [2, num_edges].\n",
    "edges2 = edges[[\"txId1\", \"txId2\"]].to_numpy().T\n",
    "# Create an edge weights array of ones.\n",
    "edge_weights = tf.ones(shape=edges2.shape[1])\n",
    "# Create a node features array of shape [num_nodes, num_features].\n",
    "# IN the next line we select the features to include in the graph \n",
    "# Notice than only tx_features are present!\n",
    "\n",
    "node_features = tf.cast(\n",
    "    features.sort_values(\"txId\")[tx_features].to_numpy(), dtype=tf.dtypes.float32\n",
    ")\n",
    "# Create graph info tuple with node_features, edges, and edge_weights.\n",
    "graph_info = (node_features, edges2, edge_weights)\n",
    "\n",
    "print(\"Edges shape:\", edges2.shape)\n",
    "print(\"Nodes shape:\", node_features.shape)\n",
    "print(\"edge weights shape:\", edge_weights.shape)"
   ]
  },
  {
   "cell_type": "markdown",
   "metadata": {
    "id": "b_W4bDrRdT0y"
   },
   "source": [
    "## Build the GCN model "
   ]
  },
  {
   "cell_type": "code",
   "execution_count": 19,
   "metadata": {
    "id": "B8L_AyL9dX9s"
   },
   "outputs": [],
   "source": [
    "class GraphConvLayer(layers.Layer):\n",
    "    def __init__(\n",
    "        self,\n",
    "        hidden_units,\n",
    "        dropout_rate=0.2,\n",
    "        aggregation_type=\"mean\",\n",
    "        combination_type=\"concat\",\n",
    "        normalize=False,\n",
    "        *args,\n",
    "        **kwargs,\n",
    "    ):\n",
    "        super(GraphConvLayer, self).__init__(*args, **kwargs)\n",
    "\n",
    "        self.aggregation_type = aggregation_type\n",
    "        self.combination_type = combination_type\n",
    "        self.normalize = normalize\n",
    "\n",
    "        self.ffn_prepare = create_ffn(hidden_units, dropout_rate)\n",
    "        if self.combination_type == \"gated\":\n",
    "            self.update_fn = layers.GRU(\n",
    "                units=hidden_units,\n",
    "                activation=\"tanh\",\n",
    "                recurrent_activation=\"sigmoid\",\n",
    "                dropout=dropout_rate,\n",
    "                return_state=True,\n",
    "                recurrent_dropout=dropout_rate,\n",
    "            )\n",
    "        else:\n",
    "            self.update_fn = create_ffn(hidden_units, dropout_rate)\n",
    "\n",
    "    def prepare(self, node_repesentations, weights=None):\n",
    "        # node_repesentations shape is [num_edges, embedding_dim].\n",
    "        messages = self.ffn_prepare(node_repesentations)\n",
    "        if weights is not None:\n",
    "            messages = messages * tf.expand_dims(weights, -1)\n",
    "        return messages\n",
    "\n",
    "    def aggregate(self, node_indices, neighbour_messages):\n",
    "        # node_indices shape is [num_edges].\n",
    "        # neighbour_messages shape: [num_edges, representation_dim].\n",
    "        num_nodes = tf.math.reduce_max(node_indices) + 1\n",
    "        if self.aggregation_type == \"sum\":\n",
    "            aggregated_message = tf.math.unsorted_segment_sum(\n",
    "                neighbour_messages, node_indices, num_segments=num_nodes\n",
    "            )\n",
    "        elif self.aggregation_type == \"mean\":\n",
    "            aggregated_message = tf.math.unsorted_segment_mean(\n",
    "                neighbour_messages, node_indices, num_segments=num_nodes\n",
    "            )\n",
    "        elif self.aggregation_type == \"max\":\n",
    "            aggregated_message = tf.math.unsorted_segment_max(\n",
    "                neighbour_messages, node_indices, num_segments=num_nodes\n",
    "            )\n",
    "        else:\n",
    "            raise ValueError(f\"Invalid aggregation type: {self.aggregation_type}.\")\n",
    "\n",
    "        return aggregated_message\n",
    "\n",
    "    def update(self, node_repesentations, aggregated_messages):\n",
    "        # node_repesentations shape is [num_nodes, representation_dim].\n",
    "        # aggregated_messages shape is [num_nodes, representation_dim].\n",
    "        if self.combination_type == \"gru\":\n",
    "            # Create a sequence of two elements for the GRU layer.\n",
    "            h = tf.stack([node_repesentations, aggregated_messages], axis=1)\n",
    "        elif self.combination_type == \"concat\":\n",
    "            # Concatenate the node_repesentations and aggregated_messages.\n",
    "            h = tf.concat([node_repesentations, aggregated_messages], axis=1)\n",
    "        elif self.combination_type == \"add\":\n",
    "            # Add node_repesentations and aggregated_messages.\n",
    "            h = node_repesentations + aggregated_messages\n",
    "        else:\n",
    "            raise ValueError(f\"Invalid combination type: {self.combination_type}.\")\n",
    "\n",
    "        # Apply the processing function.\n",
    "        node_embeddings = self.update_fn(h)\n",
    "        if self.combination_type == \"gru\":\n",
    "            node_embeddings = tf.unstack(node_embeddings, axis=1)[-1]\n",
    "\n",
    "        if self.normalize:\n",
    "            node_embeddings = tf.nn.l2_normalize(node_embeddings, axis=-1)\n",
    "        return node_embeddings\n",
    "\n",
    "    def call(self, inputs):\n",
    "        \"\"\"Process the inputs to produce the node_embeddings.\n",
    "\n",
    "        inputs: a tuple of three elements: node_repesentations, edges, edge_weights.\n",
    "        Returns: node_embeddings of shape [num_nodes, representation_dim].\n",
    "        \"\"\"\n",
    "\n",
    "        node_repesentations, edges, edge_weights = inputs\n",
    "        # Get node_indices (source) and neighbour_indices (target) from edges.\n",
    "        node_indices, neighbour_indices = edges[0], edges[1]\n",
    "        # neighbour_repesentations shape is [num_edges, representation_dim].\n",
    "        neighbour_repesentations = tf.gather(node_repesentations, neighbour_indices)\n",
    "\n",
    "        # Prepare the messages of the neighbours.\n",
    "        neighbour_messages = self.prepare(neighbour_repesentations, edge_weights)\n",
    "        # Aggregate the neighbour messages.\n",
    "        aggregated_messages = self.aggregate(node_indices, neighbour_messages)\n",
    "        # Update the node embedding with the neighbour messages.\n",
    "        return self.update(node_repesentations, aggregated_messages)\n"
   ]
  },
  {
   "cell_type": "code",
   "execution_count": 20,
   "metadata": {
    "id": "rN3YYGsKdtC0"
   },
   "outputs": [],
   "source": [
    "class GNNNodeClassifier(tf.keras.Model):\n",
    "    def __init__(\n",
    "        self,\n",
    "        graph_info,\n",
    "        num_classes,\n",
    "        hidden_units,\n",
    "        aggregation_type=\"sum\",\n",
    "        combination_type=\"concat\",\n",
    "        dropout_rate=0.2,\n",
    "        normalize=True,\n",
    "        *args,\n",
    "        **kwargs,\n",
    "    ):\n",
    "        super(GNNNodeClassifier, self).__init__(*args, **kwargs)\n",
    "\n",
    "        # Unpack graph_info to three elements: node_features, edges, and edge_weight.\n",
    "        node_features, edges, edge_weights = graph_info\n",
    "        self.node_features = node_features\n",
    "        self.edges = edges\n",
    "        self.edge_weights = edge_weights\n",
    "        # Set edge_weights to ones if not provided.\n",
    "        if self.edge_weights is None:\n",
    "            self.edge_weights = tf.ones(shape=edges.shape[1])\n",
    "        # Scale edge_weights to sum to 1.\n",
    "        self.edge_weights = self.edge_weights / tf.math.reduce_sum(self.edge_weights)\n",
    "\n",
    "        # Create a process layer.\n",
    "        self.preprocess = create_ffn(hidden_units, dropout_rate, name=\"preprocess\")\n",
    "        # Create the first GraphConv layer.\n",
    "        self.conv1 = GraphConvLayer(\n",
    "            hidden_units,\n",
    "            dropout_rate,\n",
    "            aggregation_type,\n",
    "            combination_type,\n",
    "            normalize,\n",
    "            name=\"graph_conv1\",\n",
    "        )\n",
    "        # Create the second GraphConv layer.\n",
    "        self.conv2 = GraphConvLayer(\n",
    "            hidden_units,\n",
    "            dropout_rate,\n",
    "            aggregation_type,\n",
    "            combination_type,\n",
    "            normalize,\n",
    "            name=\"graph_conv2\",\n",
    "        )\n",
    "        # Create a postprocess layer.\n",
    "        self.postprocess = create_ffn(hidden_units, dropout_rate, name=\"postprocess\")\n",
    "        # Create a compute logits layer.\n",
    "        self.compute_logits = layers.Dense(units=num_classes, name=\"logits\")\n",
    "\n",
    "    def call(self, input_node_indices):\n",
    "        # Preprocess the node_features to produce node representations.\n",
    "        x = self.preprocess(self.node_features)\n",
    "        # Apply the first graph conv layer.\n",
    "        x1 = self.conv1((x, self.edges, self.edge_weights))\n",
    "        # Skip connection.\n",
    "        x = x1 + x\n",
    "        # Apply the second graph conv layer.\n",
    "        x2 = self.conv2((x, self.edges, self.edge_weights))\n",
    "        # Skip connection.\n",
    "        x = x2 + x\n",
    "        # Postprocess node embedding.\n",
    "        x = self.postprocess(x)\n",
    "        # Fetch node embeddings for the input node_indices.\n",
    "        node_embeddings = tf.gather(x, input_node_indices)\n",
    "        # Compute logits\n",
    "        return self.compute_logits(node_embeddings)\n"
   ]
  },
  {
   "cell_type": "markdown",
   "metadata": {
    "id": "t8dJI64C-VpT"
   },
   "source": [
    "### set the hyperparameters "
   ]
  },
  {
   "cell_type": "code",
   "execution_count": 21,
   "metadata": {
    "colab": {
     "base_uri": "https://localhost:8080/"
    },
    "id": "r4AQMVlOdJEu",
    "outputId": "276e4aee-5902-4b32-96ec-2ab4074c3b38"
   },
   "outputs": [
    {
     "name": "stdout",
     "output_type": "stream",
     "text": [
      "num classes =  2\n"
     ]
    }
   ],
   "source": [
    "# Define the parameters for the network \n",
    "\n",
    "num_classes = len(class_values)\n",
    "print(\"num classes = \" , num_classes)\n",
    "\n",
    "hidden_units = [32, 32]\n",
    "learning_rate = 0.007\n",
    "dropout_rate = 0.6\n",
    "#0.5\n",
    "num_epochs = 30\n",
    "batch_size = 256\n",
    "#256"
   ]
  },
  {
   "cell_type": "code",
   "execution_count": 22,
   "metadata": {
    "colab": {
     "base_uri": "https://localhost:8080/"
    },
    "id": "MN6q0BVFdz7g",
    "outputId": "8ffb09bc-3896-4a6a-a73b-698404d7733b"
   },
   "outputs": [
    {
     "name": "stdout",
     "output_type": "stream",
     "text": [
      "GNN output shape: tf.Tensor(\n",
      "[[-2.5593235  -5.8212867 ]\n",
      " [-0.5203702  -0.5505327 ]\n",
      " [ 0.03265724 -0.1205126 ]], shape=(3, 2), dtype=float32)\n",
      "Model: \"gnn_model\"\n",
      "_________________________________________________________________\n",
      " Layer (type)                Output Shape              Param #   \n",
      "=================================================================\n",
      " preprocess (Sequential)     (46564, 32)               4564      \n",
      "                                                                 \n",
      " graph_conv1 (GraphConvLayer  multiple                 5888      \n",
      " )                                                               \n",
      "                                                                 \n",
      " graph_conv2 (GraphConvLayer  multiple                 5888      \n",
      " )                                                               \n",
      "                                                                 \n",
      " postprocess (Sequential)    (46564, 32)               2368      \n",
      "                                                                 \n",
      " logits (Dense)              multiple                  66        \n",
      "                                                                 \n",
      "=================================================================\n",
      "Total params: 18,774\n",
      "Trainable params: 17,756\n",
      "Non-trainable params: 1,018\n",
      "_________________________________________________________________\n"
     ]
    }
   ],
   "source": [
    "gnn_model = GNNNodeClassifier(\n",
    "    graph_info=graph_info,\n",
    "    num_classes=num_classes,\n",
    "    hidden_units=hidden_units,\n",
    "    dropout_rate=dropout_rate,\n",
    "    name=\"gnn_model\",\n",
    ")\n",
    "\n",
    "print(\"GNN output shape:\", gnn_model([1,10,100]))\n",
    "\n",
    "gnn_model.summary()"
   ]
  },
  {
   "cell_type": "markdown",
   "metadata": {
    "id": "G6uF8iedenri"
   },
   "source": [
    "## Train the model"
   ]
  },
  {
   "cell_type": "code",
   "execution_count": 23,
   "metadata": {
    "id": "AFqlM_UMerPI"
   },
   "outputs": [],
   "source": [
    "from sklearn.model_selection import train_test_split\n",
    "\n",
    "X = features[tx_features + ['txId'] ]\n",
    "y = features['class']\n",
    "y = y.apply(lambda x: 0 if x == '2' else 1 )\n",
    "X_train, X_test, y_train, y_test = train_test_split(X,y,test_size=0.3,random_state=117,shuffle=True)"
   ]
  },
  {
   "cell_type": "code",
   "execution_count": 24,
   "metadata": {
    "colab": {
     "base_uri": "https://localhost:8080/"
    },
    "id": "hISawx7HgWxb",
    "outputId": "a1f4f885-4769-48a7-9f02-64c260d7abde"
   },
   "outputs": [
    {
     "name": "stdout",
     "output_type": "stream",
     "text": [
      "Epoch 1/30\n",
      "109/109 [==============================] - 24s 211ms/step - loss: 0.3248 - acc: 0.8942 - val_loss: 0.2887 - val_acc: 0.9110\n",
      "Epoch 2/30\n",
      "109/109 [==============================] - 21s 194ms/step - loss: 0.2745 - acc: 0.8988 - val_loss: 0.1786 - val_acc: 0.9110\n",
      "Epoch 3/30\n",
      "109/109 [==============================] - 21s 194ms/step - loss: 0.2436 - acc: 0.9090 - val_loss: 0.2188 - val_acc: 0.9110\n",
      "Epoch 4/30\n",
      "109/109 [==============================] - 21s 195ms/step - loss: 0.2178 - acc: 0.9257 - val_loss: 0.1784 - val_acc: 0.9110\n",
      "Epoch 5/30\n",
      "109/109 [==============================] - 21s 194ms/step - loss: 0.2034 - acc: 0.9337 - val_loss: 0.1470 - val_acc: 0.9673\n",
      "Epoch 6/30\n",
      "109/109 [==============================] - 21s 193ms/step - loss: 0.1971 - acc: 0.9392 - val_loss: 0.1310 - val_acc: 0.9673\n",
      "Epoch 7/30\n",
      "109/109 [==============================] - 21s 197ms/step - loss: 0.1913 - acc: 0.9421 - val_loss: 0.1291 - val_acc: 0.9654\n",
      "Epoch 8/30\n",
      "109/109 [==============================] - 21s 196ms/step - loss: 0.1908 - acc: 0.9436 - val_loss: 0.1381 - val_acc: 0.9646\n",
      "Epoch 9/30\n",
      "109/109 [==============================] - 22s 201ms/step - loss: 0.1852 - acc: 0.9449 - val_loss: 0.1194 - val_acc: 0.9685\n",
      "Epoch 10/30\n",
      "109/109 [==============================] - 22s 203ms/step - loss: 0.1874 - acc: 0.9437 - val_loss: 0.1196 - val_acc: 0.9669\n",
      "Epoch 11/30\n",
      "109/109 [==============================] - 22s 204ms/step - loss: 0.1833 - acc: 0.9447 - val_loss: 0.1188 - val_acc: 0.9667\n",
      "Epoch 12/30\n",
      "109/109 [==============================] - 23s 214ms/step - loss: 0.1809 - acc: 0.9461 - val_loss: 0.1244 - val_acc: 0.9665\n",
      "Epoch 13/30\n",
      "109/109 [==============================] - 23s 210ms/step - loss: 0.1788 - acc: 0.9477 - val_loss: 0.1170 - val_acc: 0.9656\n",
      "Epoch 14/30\n",
      "109/109 [==============================] - 22s 206ms/step - loss: 0.1784 - acc: 0.9476 - val_loss: 0.1141 - val_acc: 0.9671\n",
      "Epoch 15/30\n",
      "109/109 [==============================] - 22s 205ms/step - loss: 0.1782 - acc: 0.9484 - val_loss: 0.1198 - val_acc: 0.9667\n",
      "Epoch 16/30\n",
      "109/109 [==============================] - 22s 205ms/step - loss: 0.1755 - acc: 0.9490 - val_loss: 0.1109 - val_acc: 0.9706\n",
      "Epoch 17/30\n",
      "109/109 [==============================] - 23s 208ms/step - loss: 0.1737 - acc: 0.9487 - val_loss: 0.1090 - val_acc: 0.9732\n",
      "Epoch 18/30\n",
      "109/109 [==============================] - 22s 205ms/step - loss: 0.1713 - acc: 0.9488 - val_loss: 0.1151 - val_acc: 0.9706\n",
      "Epoch 19/30\n",
      "109/109 [==============================] - 22s 205ms/step - loss: 0.1724 - acc: 0.9486 - val_loss: 0.1107 - val_acc: 0.9673\n",
      "Epoch 20/30\n",
      "109/109 [==============================] - 23s 207ms/step - loss: 0.1706 - acc: 0.9493 - val_loss: 0.1077 - val_acc: 0.9706\n",
      "Epoch 21/30\n",
      "109/109 [==============================] - 23s 209ms/step - loss: 0.1683 - acc: 0.9499 - val_loss: 0.1150 - val_acc: 0.9663\n",
      "Epoch 22/30\n",
      "109/109 [==============================] - 23s 207ms/step - loss: 0.1668 - acc: 0.9492 - val_loss: 0.1069 - val_acc: 0.9732\n",
      "Epoch 23/30\n",
      "109/109 [==============================] - 22s 206ms/step - loss: 0.1699 - acc: 0.9495 - val_loss: 0.1190 - val_acc: 0.9746\n",
      "Epoch 24/30\n",
      "109/109 [==============================] - 22s 206ms/step - loss: 0.1652 - acc: 0.9510 - val_loss: 0.0998 - val_acc: 0.9740\n",
      "Epoch 25/30\n",
      "109/109 [==============================] - 22s 206ms/step - loss: 0.1647 - acc: 0.9501 - val_loss: 0.1019 - val_acc: 0.9759\n",
      "Epoch 26/30\n",
      "109/109 [==============================] - 22s 206ms/step - loss: 0.1621 - acc: 0.9509 - val_loss: 0.1054 - val_acc: 0.9757\n",
      "Epoch 27/30\n",
      "109/109 [==============================] - 23s 207ms/step - loss: 0.1591 - acc: 0.9526 - val_loss: 0.0993 - val_acc: 0.9757\n",
      "Epoch 28/30\n",
      "109/109 [==============================] - 23s 212ms/step - loss: 0.1612 - acc: 0.9517 - val_loss: 0.1006 - val_acc: 0.9759\n",
      "Epoch 29/30\n",
      "109/109 [==============================] - 23s 208ms/step - loss: 0.1570 - acc: 0.9528 - val_loss: 0.1048 - val_acc: 0.9775\n",
      "Epoch 30/30\n",
      "109/109 [==============================] - 23s 209ms/step - loss: 0.1591 - acc: 0.9518 - val_loss: 0.1030 - val_acc: 0.9761\n"
     ]
    }
   ],
   "source": [
    "# for training I only need txID, everything else is already in the network \n",
    "x_train = X_train.txId.to_numpy()\n",
    "history = run_experiment(gnn_model, x_train, y_train)"
   ]
  },
  {
   "cell_type": "code",
   "execution_count": 25,
   "metadata": {
    "colab": {
     "base_uri": "https://localhost:8080/",
     "height": 334
    },
    "id": "vF6rgI9tgx49",
    "outputId": "21efe374-a854-4769-9bb3-45a6626d5d3b"
   },
   "outputs": [
    {
     "data": {
      "image/png": "[encoded data removed]",
      "text/plain": [
       "<Figure size 1500x500 with 2 Axes>"
      ]
     },
     "metadata": {},
     "output_type": "display_data"
    }
   ],
   "source": [
    "display_learning_curves(history)"
   ]
  },
  {
   "cell_type": "markdown",
   "metadata": {
    "id": "GNg-wNVSjiKE"
   },
   "source": [
    "## Test the results"
   ]
  },
  {
   "cell_type": "code",
   "execution_count": 26,
   "metadata": {
    "colab": {
     "base_uri": "https://localhost:8080/"
    },
    "id": "bd1TDwppg0SI",
    "outputId": "93a8739c-9ac1-4375-8dae-3b665b375884"
   },
   "outputs": [
    {
     "name": "stdout",
     "output_type": "stream",
     "text": [
      "Test accuracy: 97.24%\n"
     ]
    }
   ],
   "source": [
    "x_test = X_test.txId.to_numpy()\n",
    "_, test_accuracy = gnn_model.evaluate(x=x_test, y=y_test, verbose=0)\n",
    "print(f\"Test accuracy: {round(test_accuracy * 100, 2)}%\")"
   ]
  },
  {
   "cell_type": "code",
   "execution_count": 27,
   "metadata": {
    "id": "v3aSDn2bg2Ir"
   },
   "outputs": [],
   "source": [
    "preds = gnn_model.predict(x_test)"
   ]
  },
  {
   "cell_type": "code",
   "execution_count": 28,
   "metadata": {
    "id": "LK68Cg0Fg4kl"
   },
   "outputs": [],
   "source": [
    "norm_preds = sklearn.preprocessing.normalize(preds)\n",
    "\n",
    "y_predicted = []\n",
    "for pred in norm_preds:\n",
    "  if pred[0] > pred[1]:\n",
    "    y_predicted.append(0)\n",
    "  else :\n",
    "    y_predicted.append(1)"
   ]
  },
  {
   "cell_type": "code",
   "execution_count": 29,
   "metadata": {
    "colab": {
     "base_uri": "https://localhost:8080/"
    },
    "id": "iAHGJplzjgP6",
    "outputId": "ab9d9a78-1984-40b4-892f-27a0a0e98227"
   },
   "outputs": [
    {
     "name": "stdout",
     "output_type": "stream",
     "text": [
      "Convoluted neural network\n",
      "Precision:0.919 \n",
      "Recall:0.776 \n",
      "F1 Score:0.841\n",
      "Micro-Average F1 Score: 0.9724409448818898\n"
     ]
    }
   ],
   "source": [
    "prec,rec,f1,num = sklearn.metrics.precision_recall_fscore_support(y_test,y_predicted, average=None)\n",
    "print(\"Convoluted neural network\")\n",
    "print(\"Precision:%.3f \\nRecall:%.3f \\nF1 Score:%.3f\"%(prec[1],rec[1],f1[1]))\n",
    "micro_f1 = sklearn.metrics.f1_score(y_test,y_predicted,average='micro')\n",
    "print(\"Micro-Average F1 Score:\",micro_f1)"
   ]
  },
  {
   "cell_type": "markdown",
   "metadata": {
    "id": "FzayduCx_R0W"
   },
   "source": [
    "#### Load and save model "
   ]
  },
  {
   "cell_type": "code",
   "execution_count": 30,
   "metadata": {
    "colab": {
     "base_uri": "https://localhost:8080/"
    },
    "id": "uDgTvqQm-VbZ",
    "outputId": "e6e31ab0-339d-492f-ca56-5df378284573"
   },
   "outputs": [
    {
     "name": "stderr",
     "output_type": "stream",
     "text": [
      "2023-12-26 23:16:14.717688: W tensorflow/python/util/util.cc:368] Sets are not currently considered sequences, but this may change in the future, so consider avoiding using them.\n"
     ]
    },
    {
     "name": "stdout",
     "output_type": "stream",
     "text": [
      "INFO:tensorflow:Assets written to: /home/karthik/AML/pallavi/FedLearning/assets\n"
     ]
    }
   ],
   "source": [
    "gnn_model.save('/home/karthik/AML/pallavi/FedLearning')"
   ]
  },
  {
   "cell_type": "code",
   "execution_count": 31,
   "metadata": {
    "id": "gkynXjcz-65x"
   },
   "outputs": [],
   "source": [
    "model = keras.models.load_model('/home/karthik/AML/pallavi/FedLearning')"
   ]
  },
  {
   "cell_type": "markdown",
   "metadata": {
    "id": "eugOjaeZ-ejI"
   },
   "source": [
    "## Compare with the other models "
   ]
  },
  {
   "cell_type": "code",
   "execution_count": 32,
   "metadata": {
    "id": "qeJcoDGCBGUt"
   },
   "outputs": [],
   "source": [
    "# read the results file produced by the other notebook. (you have to upload them yourself)\n",
    "compare = pd.read_csv(\"/home/karthik/AML/GCN_detect_bitcoin_money_laundering/1_result_elliptic.csv\",usecols=[1,2,3,4,5])"
   ]
  },
  {
   "cell_type": "code",
   "execution_count": 33,
   "metadata": {
    "id": "RjN4_RTDBduj"
   },
   "outputs": [
    {
     "name": "stdout",
     "output_type": "stream",
     "text": [
      "{'model': ['GCN'], 'Precision': [0.919], 'Recall': [0.776], 'F1 Score': [0.985], 'M.A F1 Score': [0.972]}\n"
     ]
    },
    {
     "name": "stderr",
     "output_type": "stream",
     "text": [
      "/tmp/ipykernel_8449/3607287739.py:11: FutureWarning: The behavior of DataFrame concatenation with empty or all-NA entries is deprecated. In a future version, this will no longer exclude empty or all-NA columns when determining the result dtypes. To retain the old behavior, exclude the relevant entries before the concat operation.\n",
      "  compare = pd.concat([compare, new_row], ignore_index=True)\n"
     ]
    }
   ],
   "source": [
    "compare = pd.DataFrame(columns=['model', 'Precision', 'Recall', 'F1 Score', 'M.A F1 Score'])\n",
    "new_data = {\n",
    "    'model': [\"GCN\"],\n",
    "    'Precision': [np.round(prec[1], 3)],\n",
    "    'Recall': [np.round(rec[1], 3)],\n",
    "    'F1 Score': [np.round(f1[0], 3)],\n",
    "    'M.A F1 Score': [np.round(micro_f1, 3)]\n",
    "}\n",
    "print(new_data)\n",
    "new_row = pd.DataFrame(new_data)\n",
    "compare = pd.concat([compare, new_row], ignore_index=True)"
   ]
  },
  {
   "cell_type": "code",
   "execution_count": 34,
   "metadata": {
    "colab": {
     "base_uri": "https://localhost:8080/",
     "height": 266
    },
    "id": "c7q1C4K3BxBD",
    "outputId": "56b646ff-96ba-47f7-e12e-c726217e2732"
   },
   "outputs": [
    {
     "data": {
      "text/html": [
       "<div>\n",
       "<style scoped>\n",
       "    .dataframe tbody tr th:only-of-type {\n",
       "        vertical-align: middle;\n",
       "    }\n",
       "\n",
       "    .dataframe tbody tr th {\n",
       "        vertical-align: top;\n",
       "    }\n",
       "\n",
       "    .dataframe thead th {\n",
       "        text-align: right;\n",
       "    }\n",
       "</style>\n",
       "<table border=\"1\" class=\"dataframe\">\n",
       "  <thead>\n",
       "    <tr style=\"text-align: right;\">\n",
       "      <th></th>\n",
       "      <th>model</th>\n",
       "      <th>Precision</th>\n",
       "      <th>Recall</th>\n",
       "      <th>F1 Score</th>\n",
       "      <th>M.A F1 Score</th>\n",
       "    </tr>\n",
       "  </thead>\n",
       "  <tbody>\n",
       "    <tr>\n",
       "      <th>0</th>\n",
       "      <td>GCN</td>\n",
       "      <td>0.919</td>\n",
       "      <td>0.776</td>\n",
       "      <td>0.985</td>\n",
       "      <td>0.972</td>\n",
       "    </tr>\n",
       "  </tbody>\n",
       "</table>\n",
       "</div>"
      ],
      "text/plain": [
       "  model  Precision  Recall  F1 Score  M.A F1 Score\n",
       "0   GCN      0.919   0.776     0.985         0.972"
      ]
     },
     "execution_count": 34,
     "metadata": {},
     "output_type": "execute_result"
    }
   ],
   "source": [
    "compare.head(10)"
   ]
  },
  {
   "cell_type": "code",
   "execution_count": 35,
   "metadata": {
    "colab": {
     "base_uri": "https://localhost:8080/",
     "height": 729
    },
    "id": "4zp3UnUBCeIY",
    "outputId": "655cd583-a889-4bf2-bc7d-671b316a93a9"
   },
   "outputs": [
    {
     "data": {
      "image/png": "[encoded data removed]",
      "text/plain": [
       "<Figure size 600x1000 with 1 Axes>"
      ]
     },
     "metadata": {},
     "output_type": "display_data"
    }
   ],
   "source": [
    "\n",
    "labels = compare['model'].to_numpy()\n",
    "precision = compare['Precision'].to_numpy()\n",
    "recall = compare['Recall'].to_numpy()\n",
    "f1 = compare['F1 Score'].to_numpy()\n",
    "maf1 = compare['M.A F1 Score'].to_numpy()\n",
    "\n",
    "x = np.arange(len(labels))  # the label locations\n",
    "width = 0.55  # the width of the bars\n",
    "fig, ax = plt.subplots(figsize=(6, 10))\n",
    "f1_rects = ax.bar(x, f1, width, label='F1 Score',color='#f2b37b')\n",
    "MAf1_rects = ax.bar(x , maf1, width, label='M.A. F1 Score',color='#7b8bf2',bottom=f1)\n",
    "prec_rects = ax.bar(x, precision, width, label='Precision',color='#83f27b',bottom=maf1 + f1)\n",
    "rec_rects = ax.bar(x, recall, width, label='Recall',color='#f27b83',bottom=maf1 + f1 + precision)\n",
    "\n",
    "ax.set_ylabel('value 0-1')\n",
    "ax.set_title('Final metrics by classifier')\n",
    "ax.set_xticks(np.arange(0,len(labels),1))\n",
    "ax.set_yticks(np.arange(0,4,0.1))\n",
    "ax.set_xticklabels(labels=labels)\n",
    "ax.legend()\n",
    "\n",
    "plt.xticks(rotation=90)\n",
    "plt.grid(True)\n",
    "fig.tight_layout()\n",
    "plt.show()"
   ]
  },
  {
   "cell_type": "code",
   "execution_count": 36,
   "metadata": {
    "id": "IE1-4KNtE_Kw"
   },
   "outputs": [],
   "source": [
    "# save the results for later use \n",
    "compare.to_csv(\"/home/karthik/GCN_detect_bitcoin_money_laundering/2_result_elliptic.csv\")"
   ]
  },
  {
   "cell_type": "code",
   "execution_count": null,
   "metadata": {},
   "outputs": [],
   "source": []
  },
  {
   "cell_type": "code",
   "execution_count": null,
   "metadata": {},
   "outputs": [],
   "source": []
  }
 ],
 "metadata": {
  "accelerator": "GPU",
  "colab": {
   "collapsed_sections": [],
   "name": "2_GCN_elliptic_final.ipynb",
   "provenance": [],
   "toc_visible": true
  },
  "kernelspec": {
   "display_name": "Python 3 (ipykernel)",
   "language": "python",
   "name": "python3"
  },
  "language_info": {
   "codemirror_mode": {
    "name": "ipython",
    "version": 3
   },
   "file_extension": ".py",
   "mimetype": "text/x-python",
   "name": "python",
   "nbconvert_exporter": "python",
   "pygments_lexer": "ipython3",
   "version": "3.10.12"
  }
 },
 "nbformat": 4,
 "nbformat_minor": 4
}
